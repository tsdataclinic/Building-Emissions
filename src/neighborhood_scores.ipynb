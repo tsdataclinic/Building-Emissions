{
 "cells": [
  {
   "cell_type": "code",
   "execution_count": 1,
   "id": "automatic-investing",
   "metadata": {},
   "outputs": [],
   "source": [
    "import geopandas as geopd\n",
    "import pandas as pd\n",
    "import folium\n",
    "import rtree\n",
    "import seaborn as sns\n",
    "from shapely.geometry import shape\n",
    "sns.set(rc={'figure.figsize':(10,10)})"
   ]
  },
  {
   "cell_type": "code",
   "execution_count": 2,
   "id": "christian-junior",
   "metadata": {},
   "outputs": [],
   "source": [
    "building_data = geopd.read_file(\"https://raw.githubusercontent.com/NYCDOB/LocalLaw97/gh-pages/data/LL3320220609.json\")\n",
    "mapPLUTO = geopd.read_file(\"https://www1.nyc.gov/assets/planning/download/zip/data-maps/open-data/nyc_mappluto_22v1_shp.zip\")"
   ]
  },
  {
   "cell_type": "code",
   "execution_count": 3,
   "id": "honest-evening",
   "metadata": {},
   "outputs": [],
   "source": [
    "emissions_trim = building_data.copy(deep = True)[[\"ID\", \"BBL_MapPLU\", \"EnergyStar\", \"LetterGrad\", \"geometry\"]]\n",
    "emissions_trim[\"BBL_MapPLU\"] = emissions_trim.BBL_MapPLU.astype(\"str\")"
   ]
  },
  {
   "cell_type": "code",
   "execution_count": 4,
   "id": "international-packaging",
   "metadata": {},
   "outputs": [],
   "source": [
    "residential_buildings = mapPLUTO.query(\"UnitsRes > 0 & ResArea > 0 & ComArea == 0 & OfficeArea == 0 & RetailArea == 0\")[[\"YearBuilt\", \"OwnerName\", 'NumBldgs', 'NumFloors', 'UnitsRes', 'ResArea', 'Latitude', 'Longitude', \"BBL\", \"YearAlter1\", \"YearAlter2\"]]\n",
    "residential_buildings[\"BBL_MapPLU\"] = residential_buildings.copy(deep = True).BBL.astype(\"str\").str.slice(0, 10)\n",
    "residential_buildings = emissions_trim.merge(residential_buildings, how = \"inner\", on='BBL_MapPLU')\n",
    "residential_buildings = geopd.GeoDataFrame(residential_buildings)"
   ]
  },
  {
   "cell_type": "code",
   "execution_count": 5,
   "id": "allied-newcastle",
   "metadata": {},
   "outputs": [],
   "source": [
    "CDs = geopd.read_file(\"https://data.cityofnewyork.us/api/geospatial/yfnk-k7r4?method=export&format=GeoJSON\")"
   ]
  },
  {
   "cell_type": "code",
   "execution_count": 6,
   "id": "national-saturday",
   "metadata": {},
   "outputs": [],
   "source": [
    "residential_buildings[\"geometry\"] = geopd.points_from_xy(residential_buildings[\"Longitude\"], residential_buildings[\"Latitude\"])\n",
    "residential_buildings = geopd.GeoDataFrame(residential_buildings)"
   ]
  },
  {
   "cell_type": "code",
   "execution_count": 7,
   "id": "consecutive-round",
   "metadata": {},
   "outputs": [],
   "source": [
    "buildings_CDs = residential_buildings.overlay(CDs)"
   ]
  },
  {
   "cell_type": "code",
   "execution_count": 8,
   "id": "wicked-westminster",
   "metadata": {},
   "outputs": [],
   "source": [
    "buildings_CDs[\"sqft_per_unit\"] = buildings_CDs[\"ResArea\"] / buildings_CDs[\"UnitsRes\"]\n",
    "buildings_CDs = buildings_CDs[buildings_CDs[\"YearBuilt\"] > 1700]\n",
    "\n",
    "CD_building_info = buildings_CDs.groupby(\"boro_cd\").agg(avg_score = (\"EnergyStar\", \"mean\"),\n",
    "                                     avg_sqft = (\"sqft_per_unit\", \"mean\"),\n",
    "                                    count = (\"BBL_MapPLU\", \"count\"),\n",
    "                                    avg_year = (\"YearBuilt\", \"mean\")).reset_index()"
   ]
  },
  {
   "cell_type": "code",
   "execution_count": 9,
   "id": "neutral-monkey",
   "metadata": {},
   "outputs": [],
   "source": [
    "buildings_CDs.to_csv(\"data/buildings_CD.csv\")\n",
    "CD_building_info.to_csv(\"data/CD_building_info.csv\")"
   ]
  },
  {
   "cell_type": "code",
   "execution_count": null,
   "id": "infectious-extreme",
   "metadata": {},
   "outputs": [],
   "source": []
  }
 ],
 "metadata": {
  "alphastudio": {
   "as_jupyter_image_name": "gcr.io/ts-quantsource/as-jupyter-v6",
   "as_jupyter_image_tag": "202102182204-0a00b650bbc9"
  },
  "kernelspec": {
   "display_name": "Python 3",
   "language": "python",
   "name": "python3"
  },
  "language_info": {
   "codemirror_mode": {
    "name": "ipython",
    "version": 3
   },
   "file_extension": ".py",
   "mimetype": "text/x-python",
   "name": "python",
   "nbconvert_exporter": "python",
   "pygments_lexer": "ipython3",
   "version": "3.7.9"
  }
 },
 "nbformat": 4,
 "nbformat_minor": 5
}
